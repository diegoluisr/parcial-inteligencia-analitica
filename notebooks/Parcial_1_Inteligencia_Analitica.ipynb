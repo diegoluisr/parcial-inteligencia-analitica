version https://git-lfs.github.com/spec/v1
oid sha256:a95279b615f02293e5baf8daed417695b55b74f79592a465e0451b80a942adf9
size 55915737
