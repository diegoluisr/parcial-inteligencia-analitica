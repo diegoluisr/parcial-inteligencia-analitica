version https://git-lfs.github.com/spec/v1
oid sha256:317b18ba0a1f5e2833e116ce1d6ef9780c07a82666ca76a1365835dc36c714b2
size 20712
