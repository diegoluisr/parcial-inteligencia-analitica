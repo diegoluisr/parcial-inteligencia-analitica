version https://git-lfs.github.com/spec/v1
oid sha256:17cd3d3907011841649246585841dafa15ff4927d357fa48dabf3efcd758f3d8
size 29326
