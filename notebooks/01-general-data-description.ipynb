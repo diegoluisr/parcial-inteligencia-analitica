version https://git-lfs.github.com/spec/v1
oid sha256:fe969be83ac55b800ba17cdf761db7f00d8ed26dcd4809185adbb948efc1041b
size 33789
