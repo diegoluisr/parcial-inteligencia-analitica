version https://git-lfs.github.com/spec/v1
oid sha256:08eec3dcbdbf052b724671be88fe766c82173a5cb2141369db11119837445949
size 32944556
