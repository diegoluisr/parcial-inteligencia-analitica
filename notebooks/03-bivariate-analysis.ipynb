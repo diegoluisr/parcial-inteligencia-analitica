version https://git-lfs.github.com/spec/v1
oid sha256:c21df5fdddacff1af1da199d176c0cbf4e5ddd13a17d7fbba58a5c33153e0438
size 32949181
