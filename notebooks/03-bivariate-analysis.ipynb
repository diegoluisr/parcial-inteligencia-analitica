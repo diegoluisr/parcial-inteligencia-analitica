version https://git-lfs.github.com/spec/v1
oid sha256:7b43522ade210e1eabd60d60b731d910b1ad6003b8ed036a436b049d596fc5ef
size 6955
