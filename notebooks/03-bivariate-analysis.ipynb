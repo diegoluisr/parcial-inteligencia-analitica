version https://git-lfs.github.com/spec/v1
oid sha256:47ce0b9c6ab362a4b68de5ff3b3fac72b01752c9dfe695d9a831c52b08bc5ef0
size 11589
