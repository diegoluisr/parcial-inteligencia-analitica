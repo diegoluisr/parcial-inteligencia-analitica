version https://git-lfs.github.com/spec/v1
oid sha256:db846774dd56f6fdb2ca5373833fd4448abc991afc449af95dee3c94d4ffeb7d
size 32944553
