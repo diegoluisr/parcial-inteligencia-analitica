version https://git-lfs.github.com/spec/v1
oid sha256:a666cd09d026e77f7b48c09e645cc98a6e88bee3fbdc1c61986558bb8623c1f8
size 44570
