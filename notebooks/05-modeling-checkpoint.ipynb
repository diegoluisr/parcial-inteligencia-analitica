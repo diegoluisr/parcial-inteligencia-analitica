version https://git-lfs.github.com/spec/v1
oid sha256:a018668b1d1ece8c61619a428b3c2fc8d865188fbeec4b7a61f07e335a289083
size 5532171
