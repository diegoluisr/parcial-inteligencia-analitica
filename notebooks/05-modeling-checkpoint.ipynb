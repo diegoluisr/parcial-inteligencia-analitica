version https://git-lfs.github.com/spec/v1
oid sha256:d392f8976d78761bd9fece9b43f147be215352d06e3182100acad17cfaf8492b
size 5521096
