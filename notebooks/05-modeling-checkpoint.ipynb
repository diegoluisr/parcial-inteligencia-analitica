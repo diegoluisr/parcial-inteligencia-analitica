version https://git-lfs.github.com/spec/v1
oid sha256:fafcd85e6a3b9e8d36245f358f0a60f21ef2db433164e555f3b46390d557479f
size 33000
