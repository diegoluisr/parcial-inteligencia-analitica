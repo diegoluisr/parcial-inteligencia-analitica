version https://git-lfs.github.com/spec/v1
oid sha256:56dce3292ed3d838620de2ef4203544f7e16d1cdb66059dfdf81572c5121e386
size 261753
