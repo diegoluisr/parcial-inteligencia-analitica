version https://git-lfs.github.com/spec/v1
oid sha256:d8f8003952ee6029f467963981f7d826a04dcb7b271f8c40b872d90d5fca66a3
size 10325
