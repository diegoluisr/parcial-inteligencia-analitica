version https://git-lfs.github.com/spec/v1
oid sha256:d1ba05a4827559d7f75a4b2399e15a5217b5fb658ab013dc1c3f247688969a36
size 85990143
