version https://git-lfs.github.com/spec/v1
oid sha256:def8278371dcd1c63bf7a59bb0c7997b05cb3f700d5f3512454f7a8af71984b1
size 31905565
