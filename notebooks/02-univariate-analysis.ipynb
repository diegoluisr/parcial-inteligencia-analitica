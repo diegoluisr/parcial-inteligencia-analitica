version https://git-lfs.github.com/spec/v1
oid sha256:20acb10021dfa66b40142fe91972788206c52dcfcf85f839f01c82503f69f351
size 26477612
