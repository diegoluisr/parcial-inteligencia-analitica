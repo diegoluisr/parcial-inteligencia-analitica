version https://git-lfs.github.com/spec/v1
oid sha256:ed04e3b21815a4045183757628639bdd00a51b82152d3d96e261e4312facaf0d
size 112907
