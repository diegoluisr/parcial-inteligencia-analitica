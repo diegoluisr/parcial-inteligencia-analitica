version https://git-lfs.github.com/spec/v1
oid sha256:fcd2c5fddc435ee44a54278ee5ef7af5f749da3aec857dcb2232a3e66bb12b85
size 111785
