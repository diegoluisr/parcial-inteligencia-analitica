version https://git-lfs.github.com/spec/v1
oid sha256:d687bcdc46be19ffce5a42c6961fb5c2155498ec0f65011d4a114fac96d57e4d
size 112608
